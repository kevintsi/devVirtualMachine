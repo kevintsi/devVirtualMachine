{
 "cells": [
  {
   "cell_type": "code",
   "execution_count": 2,
   "metadata": {},
   "outputs": [],
   "source": [
    "import pandas as pds"
   ]
  },
  {
   "cell_type": "code",
   "execution_count": 21,
   "metadata": {},
   "outputs": [],
   "source": [
    "class DataHandler:\n",
    "\n",
    "    def __init__(self):\n",
    "        self.df_listings_final = None\n",
    "        self.df_price_availability = None\n",
    "        self.df_merge = None\n",
    "\n",
    "    def get_data(self):\n",
    "        self.df_listings_final = pds.read_csv(\"Data/listings_final.csv\", sep=\";\", index_col=0)\n",
    "        self.df_price_availability = pds.read_csv(\"Data/price_availability.csv\", sep=\";\")\n",
    "\n",
    "    def group_data(self):\n",
    "        # merge \n",
    "        self.df_merge = pds.merge(self.df_listings_final, self.df_price_availability.groupby('listing_id')['local_price'].mean('local_price'), how='inner',                                on='listing_id')\n",
    "\n",
    "    def get_process_data(self):\n",
    "        self.get_data()\n",
    "        self.group_data()"
   ]
  },
  {
   "cell_type": "code",
   "execution_count": 22,
   "metadata": {},
   "outputs": [],
   "source": [
    "d = DataHandler()\n"
   ]
  },
  {
   "cell_type": "code",
   "execution_count": 23,
   "metadata": {},
   "outputs": [],
   "source": [
    "d.get_process_data()"
   ]
  },
  {
   "cell_type": "code",
   "execution_count": 25,
   "metadata": {},
   "outputs": [
    {
     "output_type": "execute_result",
     "data": {
      "text/plain": [
       "   listing_id                                      name          type   city  \\\n",
       "0    28581061                           La maison Clery  private_room  Paris   \n",
       "1      661961       studio PARIS PLACE EDITH PIAF 75020   entire_home  Paris   \n",
       "2     1261705  chambre privée à louer @ paris oberkampf  private_room  Paris   \n",
       "3     1318834            Appartement au coeur du Marais   entire_home  Paris   \n",
       "4     1677091                       Lovely & Quiet flat   entire_home  Paris   \n",
       "\n",
       "                   neighborhood   latitude  longitude  person_capacity  beds  \\\n",
       "0             2e arrondissement  48.869292   2.348335                1     1   \n",
       "1                           NaN  48.867284   2.403255                2     1   \n",
       "2                           NaN  48.867894   2.375897                1     1   \n",
       "3                    République  48.870370   2.358510                3     2   \n",
       "4  Buttes-Chaumont - Belleville  48.874149   2.373700                2     1   \n",
       "\n",
       "   bedrooms  bathrooms  is_rebookable  is_new_listing  is_fully_refundable  \\\n",
       "0         1        2.0          False            True                 True   \n",
       "1         1        1.0          False           False                 True   \n",
       "2         1        1.0          False           False                 True   \n",
       "3         2        1.0          False           False                 True   \n",
       "4         1        1.0          False           False                 True   \n",
       "\n",
       "   is_host_highly_rated  is_business_travel_ready  pricing_weekly_factor  \\\n",
       "0                 False                     False                   1.00   \n",
       "1                  True                     False                   0.88   \n",
       "2                  True                     False                   1.00   \n",
       "3                 False                     False                   0.82   \n",
       "4                  True                     False                   0.95   \n",
       "\n",
       "   pricing_monthly_factor  local_price  \n",
       "0                    1.00    45.948454  \n",
       "1                    0.69    44.473684  \n",
       "2                    1.00    49.000000  \n",
       "3                    0.48   165.000000  \n",
       "4                    0.90    69.774436  "
      ],
      "text/html": "<div>\n<style scoped>\n    .dataframe tbody tr th:only-of-type {\n        vertical-align: middle;\n    }\n\n    .dataframe tbody tr th {\n        vertical-align: top;\n    }\n\n    .dataframe thead th {\n        text-align: right;\n    }\n</style>\n<table border=\"1\" class=\"dataframe\">\n  <thead>\n    <tr style=\"text-align: right;\">\n      <th></th>\n      <th>listing_id</th>\n      <th>name</th>\n      <th>type</th>\n      <th>city</th>\n      <th>neighborhood</th>\n      <th>latitude</th>\n      <th>longitude</th>\n      <th>person_capacity</th>\n      <th>beds</th>\n      <th>bedrooms</th>\n      <th>bathrooms</th>\n      <th>is_rebookable</th>\n      <th>is_new_listing</th>\n      <th>is_fully_refundable</th>\n      <th>is_host_highly_rated</th>\n      <th>is_business_travel_ready</th>\n      <th>pricing_weekly_factor</th>\n      <th>pricing_monthly_factor</th>\n      <th>local_price</th>\n    </tr>\n  </thead>\n  <tbody>\n    <tr>\n      <th>0</th>\n      <td>28581061</td>\n      <td>La maison Clery</td>\n      <td>private_room</td>\n      <td>Paris</td>\n      <td>2e arrondissement</td>\n      <td>48.869292</td>\n      <td>2.348335</td>\n      <td>1</td>\n      <td>1</td>\n      <td>1</td>\n      <td>2.0</td>\n      <td>False</td>\n      <td>True</td>\n      <td>True</td>\n      <td>False</td>\n      <td>False</td>\n      <td>1.00</td>\n      <td>1.00</td>\n      <td>45.948454</td>\n    </tr>\n    <tr>\n      <th>1</th>\n      <td>661961</td>\n      <td>studio PARIS PLACE EDITH PIAF 75020</td>\n      <td>entire_home</td>\n      <td>Paris</td>\n      <td>NaN</td>\n      <td>48.867284</td>\n      <td>2.403255</td>\n      <td>2</td>\n      <td>1</td>\n      <td>1</td>\n      <td>1.0</td>\n      <td>False</td>\n      <td>False</td>\n      <td>True</td>\n      <td>True</td>\n      <td>False</td>\n      <td>0.88</td>\n      <td>0.69</td>\n      <td>44.473684</td>\n    </tr>\n    <tr>\n      <th>2</th>\n      <td>1261705</td>\n      <td>chambre privée à louer @ paris oberkampf</td>\n      <td>private_room</td>\n      <td>Paris</td>\n      <td>NaN</td>\n      <td>48.867894</td>\n      <td>2.375897</td>\n      <td>1</td>\n      <td>1</td>\n      <td>1</td>\n      <td>1.0</td>\n      <td>False</td>\n      <td>False</td>\n      <td>True</td>\n      <td>True</td>\n      <td>False</td>\n      <td>1.00</td>\n      <td>1.00</td>\n      <td>49.000000</td>\n    </tr>\n    <tr>\n      <th>3</th>\n      <td>1318834</td>\n      <td>Appartement au coeur du Marais</td>\n      <td>entire_home</td>\n      <td>Paris</td>\n      <td>République</td>\n      <td>48.870370</td>\n      <td>2.358510</td>\n      <td>3</td>\n      <td>2</td>\n      <td>2</td>\n      <td>1.0</td>\n      <td>False</td>\n      <td>False</td>\n      <td>True</td>\n      <td>False</td>\n      <td>False</td>\n      <td>0.82</td>\n      <td>0.48</td>\n      <td>165.000000</td>\n    </tr>\n    <tr>\n      <th>4</th>\n      <td>1677091</td>\n      <td>Lovely &amp; Quiet flat</td>\n      <td>entire_home</td>\n      <td>Paris</td>\n      <td>Buttes-Chaumont - Belleville</td>\n      <td>48.874149</td>\n      <td>2.373700</td>\n      <td>2</td>\n      <td>1</td>\n      <td>1</td>\n      <td>1.0</td>\n      <td>False</td>\n      <td>False</td>\n      <td>True</td>\n      <td>True</td>\n      <td>False</td>\n      <td>0.95</td>\n      <td>0.90</td>\n      <td>69.774436</td>\n    </tr>\n  </tbody>\n</table>\n</div>"
     },
     "metadata": {},
     "execution_count": 25
    }
   ],
   "source": [
    "d.df_merge.head()"
   ]
  },
  {
   "cell_type": "code",
   "execution_count": null,
   "metadata": {},
   "outputs": [],
   "source": []
  }
 ],
 "metadata": {
  "kernelspec": {
   "display_name": "Python 3",
   "language": "python",
   "name": "python3"
  },
  "language_info": {
   "codemirror_mode": {
    "name": "ipython",
    "version": 3
   },
   "file_extension": ".py",
   "mimetype": "text/x-python",
   "name": "python",
   "nbconvert_exporter": "python",
   "pygments_lexer": "ipython3",
   "version": "3.8.5-final"
  }
 },
 "nbformat": 4,
 "nbformat_minor": 4
}